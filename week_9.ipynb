{
 "cells": [
  {
   "cell_type": "code",
   "execution_count": 1,
   "id": "promising-suspension",
   "metadata": {
    "_cell_guid": "b1076dfc-b9ad-4769-8c92-a6c4dae69d19",
    "_uuid": "8f2839f25d086af736a60e9eeb907d3b93b6e0e5",
    "execution": {
     "iopub.execute_input": "2024-07-20T15:45:17.113562Z",
     "iopub.status.busy": "2024-07-20T15:45:17.112751Z",
     "iopub.status.idle": "2024-07-20T15:45:17.118625Z",
     "shell.execute_reply": "2024-07-20T15:45:17.117782Z",
     "shell.execute_reply.started": "2024-07-20T15:41:29.241040Z"
    },
    "papermill": {
     "duration": 0.038586,
     "end_time": "2024-07-20T15:45:17.118833",
     "exception": false,
     "start_time": "2024-07-20T15:45:17.080247",
     "status": "completed"
    },
    "tags": []
   },
   "outputs": [
    {
     "name": "stdout",
     "output_type": "stream",
     "text": [
      "/kaggle/input/anomaly-detection/Submission.csv\n",
      "/kaggle/input/anomaly-detection/train.csv\n",
      "/kaggle/input/anomaly-detection/test.csv\n"
     ]
    }
   ],
   "source": [
    "# This Python 3 environment comes with many helpful analytics libraries installed\n",
    "# It is defined by the kaggle/python Docker image: https://github.com/kaggle/docker-python\n",
    "# For example, here's several helpful packages to load\n",
    "\n",
    "import numpy as np # linear algebra\n",
    "import pandas as pd # data processing, CSV file I/O (e.g. pd.read_csv)\n",
    "\n",
    "# Input data files are available in the read-only \"../input/\" directory\n",
    "# For example, running this (by clicking run or pressing Shift+Enter) will list all files under the input directory\n",
    "\n",
    "import os\n",
    "for dirname, _, filenames in os.walk('/kaggle/input'):\n",
    "    for filename in filenames:\n",
    "        print(os.path.join(dirname, filename))\n",
    "\n",
    "# You can write up to 20GB to the current directory (/kaggle/working/) that gets preserved as output when you create a version using \"Save & Run All\" \n",
    "# You can also write temporary files to /kaggle/temp/, but they won't be saved outside of the current session"
   ]
  },
  {
   "cell_type": "markdown",
   "id": "short-antigua",
   "metadata": {
    "execution": {
     "iopub.execute_input": "2024-07-20T15:31:49.238340Z",
     "iopub.status.busy": "2024-07-20T15:31:49.237695Z",
     "iopub.status.idle": "2024-07-20T15:31:49.244316Z",
     "shell.execute_reply": "2024-07-20T15:31:49.242573Z",
     "shell.execute_reply.started": "2024-07-20T15:31:49.238293Z"
    },
    "papermill": {
     "duration": 0.018417,
     "end_time": "2024-07-20T15:45:17.156208",
     "exception": false,
     "start_time": "2024-07-20T15:45:17.137791",
     "status": "completed"
    },
    "tags": []
   },
   "source": [
    "# Reading dataset"
   ]
  },
  {
   "cell_type": "code",
   "execution_count": 2,
   "id": "competitive-projection",
   "metadata": {
    "execution": {
     "iopub.execute_input": "2024-07-20T15:45:17.198560Z",
     "iopub.status.busy": "2024-07-20T15:45:17.197622Z",
     "iopub.status.idle": "2024-07-20T15:45:17.242197Z",
     "shell.execute_reply": "2024-07-20T15:45:17.242742Z",
     "shell.execute_reply.started": "2024-07-20T15:41:29.252214Z"
    },
    "papermill": {
     "duration": 0.068476,
     "end_time": "2024-07-20T15:45:17.242922",
     "exception": false,
     "start_time": "2024-07-20T15:45:17.174446",
     "status": "completed"
    },
    "tags": []
   },
   "outputs": [
    {
     "name": "stdout",
     "output_type": "stream",
     "text": [
      "<class 'pandas.core.frame.DataFrame'>\n",
      "RangeIndex: 15830 entries, 0 to 15829\n",
      "Data columns (total 4 columns):\n",
      " #   Column      Non-Null Count  Dtype  \n",
      "---  ------      --------------  -----  \n",
      " 0   timestamp   15830 non-null  int64  \n",
      " 1   value       15830 non-null  int64  \n",
      " 2   is_anomaly  15830 non-null  bool   \n",
      " 3   predicted   15830 non-null  float64\n",
      "dtypes: bool(1), float64(1), int64(2)\n",
      "memory usage: 386.6 KB\n",
      "None\n"
     ]
    }
   ],
   "source": [
    "train=pd.read_csv(\"/kaggle/input/anomaly-detection/train.csv\")\n",
    "print(train.info())"
   ]
  },
  {
   "cell_type": "code",
   "execution_count": 3,
   "id": "reverse-concentrate",
   "metadata": {
    "execution": {
     "iopub.execute_input": "2024-07-20T15:45:17.287675Z",
     "iopub.status.busy": "2024-07-20T15:45:17.287023Z",
     "iopub.status.idle": "2024-07-20T15:45:17.301265Z",
     "shell.execute_reply": "2024-07-20T15:45:17.300724Z",
     "shell.execute_reply.started": "2024-07-20T15:41:29.307788Z"
    },
    "papermill": {
     "duration": 0.039002,
     "end_time": "2024-07-20T15:45:17.301426",
     "exception": false,
     "start_time": "2024-07-20T15:45:17.262424",
     "status": "completed"
    },
    "tags": []
   },
   "outputs": [
    {
     "data": {
      "text/html": [
       "<div>\n",
       "<style scoped>\n",
       "    .dataframe tbody tr th:only-of-type {\n",
       "        vertical-align: middle;\n",
       "    }\n",
       "\n",
       "    .dataframe tbody tr th {\n",
       "        vertical-align: top;\n",
       "    }\n",
       "\n",
       "    .dataframe thead th {\n",
       "        text-align: right;\n",
       "    }\n",
       "</style>\n",
       "<table border=\"1\" class=\"dataframe\">\n",
       "  <thead>\n",
       "    <tr style=\"text-align: right;\">\n",
       "      <th></th>\n",
       "      <th>timestamp</th>\n",
       "      <th>value</th>\n",
       "      <th>is_anomaly</th>\n",
       "      <th>predicted</th>\n",
       "    </tr>\n",
       "  </thead>\n",
       "  <tbody>\n",
       "    <tr>\n",
       "      <th>0</th>\n",
       "      <td>1425008573</td>\n",
       "      <td>42</td>\n",
       "      <td>False</td>\n",
       "      <td>44.072500</td>\n",
       "    </tr>\n",
       "    <tr>\n",
       "      <th>1</th>\n",
       "      <td>1425008873</td>\n",
       "      <td>41</td>\n",
       "      <td>False</td>\n",
       "      <td>50.709390</td>\n",
       "    </tr>\n",
       "    <tr>\n",
       "      <th>2</th>\n",
       "      <td>1425009173</td>\n",
       "      <td>41</td>\n",
       "      <td>False</td>\n",
       "      <td>81.405120</td>\n",
       "    </tr>\n",
       "    <tr>\n",
       "      <th>3</th>\n",
       "      <td>1425009473</td>\n",
       "      <td>61</td>\n",
       "      <td>False</td>\n",
       "      <td>39.950367</td>\n",
       "    </tr>\n",
       "    <tr>\n",
       "      <th>4</th>\n",
       "      <td>1425009773</td>\n",
       "      <td>44</td>\n",
       "      <td>False</td>\n",
       "      <td>35.350160</td>\n",
       "    </tr>\n",
       "  </tbody>\n",
       "</table>\n",
       "</div>"
      ],
      "text/plain": [
       "    timestamp  value  is_anomaly  predicted\n",
       "0  1425008573     42       False  44.072500\n",
       "1  1425008873     41       False  50.709390\n",
       "2  1425009173     41       False  81.405120\n",
       "3  1425009473     61       False  39.950367\n",
       "4  1425009773     44       False  35.350160"
      ]
     },
     "execution_count": 3,
     "metadata": {},
     "output_type": "execute_result"
    }
   ],
   "source": [
    "train.head()"
   ]
  },
  {
   "cell_type": "markdown",
   "id": "sought-vacuum",
   "metadata": {
    "papermill": {
     "duration": 0.018402,
     "end_time": "2024-07-20T15:45:17.338654",
     "exception": false,
     "start_time": "2024-07-20T15:45:17.320252",
     "status": "completed"
    },
    "tags": []
   },
   "source": [
    "# Exploring data with visualization"
   ]
  },
  {
   "cell_type": "code",
   "execution_count": 4,
   "id": "thick-preservation",
   "metadata": {
    "execution": {
     "iopub.execute_input": "2024-07-20T15:45:17.381656Z",
     "iopub.status.busy": "2024-07-20T15:45:17.381000Z",
     "iopub.status.idle": "2024-07-20T15:45:17.913263Z",
     "shell.execute_reply": "2024-07-20T15:45:17.912616Z",
     "shell.execute_reply.started": "2024-07-20T15:41:29.330287Z"
    },
    "papermill": {
     "duration": 0.555946,
     "end_time": "2024-07-20T15:45:17.913421",
     "exception": false,
     "start_time": "2024-07-20T15:45:17.357475",
     "status": "completed"
    },
    "tags": []
   },
   "outputs": [
    {
     "data": {
      "text/plain": [
       "<matplotlib.collections.PathCollection at 0x7e93601fff10>"
      ]
     },
     "execution_count": 4,
     "metadata": {},
     "output_type": "execute_result"
    },
    {
     "data": {
      "image/png": "[encoded data removed]",
      "text/plain": [
       "<Figure size 432x288 with 1 Axes>"
      ]
     },
     "metadata": {
      "needs_background": "light"
     },
     "output_type": "display_data"
    }
   ],
   "source": [
    "import matplotlib.pyplot as plt\n",
    "#plt.scatter(trainDf['value'],trainDf[]['predicted'])\n",
    "colors = np.where(train[\"is_anomaly\"]==False,'b','r')\n",
    "plt.scatter(range(15830),train['value'],c=colors)"
   ]
  },
  {
   "cell_type": "code",
   "execution_count": 5,
   "id": "incorporated-substitute",
   "metadata": {
    "execution": {
     "iopub.execute_input": "2024-07-20T15:45:18.012928Z",
     "iopub.status.busy": "2024-07-20T15:45:18.002685Z",
     "iopub.status.idle": "2024-07-20T15:45:18.485479Z",
     "shell.execute_reply": "2024-07-20T15:45:18.486039Z",
     "shell.execute_reply.started": "2024-07-20T15:41:29.873481Z"
    },
    "papermill": {
     "duration": 0.552552,
     "end_time": "2024-07-20T15:45:18.486287",
     "exception": false,
     "start_time": "2024-07-20T15:45:17.933735",
     "status": "completed"
    },
    "tags": []
   },
   "outputs": [
    {
     "data": {
      "text/plain": [
       "<matplotlib.collections.PathCollection at 0x7e93601a4490>"
      ]
     },
     "execution_count": 5,
     "metadata": {},
     "output_type": "execute_result"
    },
    {
     "data": {
      "image/png": "[encoded data removed]",
      "text/plain": [
       "<Figure size 432x288 with 1 Axes>"
      ]
     },
     "metadata": {
      "needs_background": "light"
     },
     "output_type": "display_data"
    }
   ],
   "source": [
    "plt.scatter(range(15830),(train['predicted']-train['value']),c=colors)"
   ]
  },
  {
   "cell_type": "code",
   "execution_count": 6,
   "id": "rapid-study",
   "metadata": {
    "execution": {
     "iopub.execute_input": "2024-07-20T15:45:18.542025Z",
     "iopub.status.busy": "2024-07-20T15:45:18.541012Z",
     "iopub.status.idle": "2024-07-20T15:45:18.554484Z",
     "shell.execute_reply": "2024-07-20T15:45:18.553836Z",
     "shell.execute_reply.started": "2024-07-20T15:41:30.373011Z"
    },
    "papermill": {
     "duration": 0.041315,
     "end_time": "2024-07-20T15:45:18.554643",
     "exception": false,
     "start_time": "2024-07-20T15:45:18.513328",
     "status": "completed"
    },
    "tags": []
   },
   "outputs": [
    {
     "data": {
      "text/html": [
       "<div>\n",
       "<style scoped>\n",
       "    .dataframe tbody tr th:only-of-type {\n",
       "        vertical-align: middle;\n",
       "    }\n",
       "\n",
       "    .dataframe tbody tr th {\n",
       "        vertical-align: top;\n",
       "    }\n",
       "\n",
       "    .dataframe thead th {\n",
       "        text-align: right;\n",
       "    }\n",
       "</style>\n",
       "<table border=\"1\" class=\"dataframe\">\n",
       "  <thead>\n",
       "    <tr style=\"text-align: right;\">\n",
       "      <th></th>\n",
       "      <th>timestamp</th>\n",
       "      <th>value</th>\n",
       "      <th>is_anomaly</th>\n",
       "      <th>predicted</th>\n",
       "    </tr>\n",
       "  </thead>\n",
       "  <tbody>\n",
       "    <tr>\n",
       "      <th>0</th>\n",
       "      <td>1425008573</td>\n",
       "      <td>42</td>\n",
       "      <td>False</td>\n",
       "      <td>44.072500</td>\n",
       "    </tr>\n",
       "    <tr>\n",
       "      <th>1</th>\n",
       "      <td>1425008873</td>\n",
       "      <td>41</td>\n",
       "      <td>False</td>\n",
       "      <td>50.709390</td>\n",
       "    </tr>\n",
       "    <tr>\n",
       "      <th>2</th>\n",
       "      <td>1425009173</td>\n",
       "      <td>41</td>\n",
       "      <td>False</td>\n",
       "      <td>81.405120</td>\n",
       "    </tr>\n",
       "    <tr>\n",
       "      <th>3</th>\n",
       "      <td>1425009473</td>\n",
       "      <td>61</td>\n",
       "      <td>False</td>\n",
       "      <td>39.950367</td>\n",
       "    </tr>\n",
       "    <tr>\n",
       "      <th>4</th>\n",
       "      <td>1425009773</td>\n",
       "      <td>44</td>\n",
       "      <td>False</td>\n",
       "      <td>35.350160</td>\n",
       "    </tr>\n",
       "  </tbody>\n",
       "</table>\n",
       "</div>"
      ],
      "text/plain": [
       "    timestamp  value  is_anomaly  predicted\n",
       "0  1425008573     42       False  44.072500\n",
       "1  1425008873     41       False  50.709390\n",
       "2  1425009173     41       False  81.405120\n",
       "3  1425009473     61       False  39.950367\n",
       "4  1425009773     44       False  35.350160"
      ]
     },
     "execution_count": 6,
     "metadata": {},
     "output_type": "execute_result"
    }
   ],
   "source": [
    "train.sort_values('timestamp').head()"
   ]
  },
  {
   "cell_type": "code",
   "execution_count": 7,
   "id": "suspended-passing",
   "metadata": {
    "execution": {
     "iopub.execute_input": "2024-07-20T15:45:18.606193Z",
     "iopub.status.busy": "2024-07-20T15:45:18.605534Z",
     "iopub.status.idle": "2024-07-20T15:45:18.612762Z",
     "shell.execute_reply": "2024-07-20T15:45:18.613252Z",
     "shell.execute_reply.started": "2024-07-20T15:41:30.391245Z"
    },
    "papermill": {
     "duration": 0.035768,
     "end_time": "2024-07-20T15:45:18.613477",
     "exception": false,
     "start_time": "2024-07-20T15:45:18.577709",
     "status": "completed"
    },
    "tags": []
   },
   "outputs": [
    {
     "data": {
      "text/plain": [
       "value\n",
       "29       259\n",
       "21       252\n",
       "33       251\n",
       "30       251\n",
       "26       245\n",
       "        ... \n",
       "543        1\n",
       "241        1\n",
       "237        1\n",
       "554        1\n",
       "13479      1\n",
       "Length: 631, dtype: int64"
      ]
     },
     "execution_count": 7,
     "metadata": {},
     "output_type": "execute_result"
    }
   ],
   "source": [
    "train.value_counts('value')"
   ]
  },
  {
   "cell_type": "code",
   "execution_count": 8,
   "id": "charitable-knock",
   "metadata": {
    "execution": {
     "iopub.execute_input": "2024-07-20T15:45:18.688239Z",
     "iopub.status.busy": "2024-07-20T15:45:18.683172Z",
     "iopub.status.idle": "2024-07-20T15:45:18.932414Z",
     "shell.execute_reply": "2024-07-20T15:45:18.931797Z",
     "shell.execute_reply.started": "2024-07-20T15:41:30.405291Z"
    },
    "papermill": {
     "duration": 0.295718,
     "end_time": "2024-07-20T15:45:18.932566",
     "exception": false,
     "start_time": "2024-07-20T15:45:18.636848",
     "status": "completed"
    },
    "tags": []
   },
   "outputs": [
    {
     "data": {
      "text/plain": [
       "<matplotlib.collections.PathCollection at 0x7e9360047c50>"
      ]
     },
     "execution_count": 8,
     "metadata": {},
     "output_type": "execute_result"
    },
    {
     "data": {
      "image/png": "[encoded data removed]",
      "text/plain": [
       "<Figure size 432x288 with 1 Axes>"
      ]
     },
     "metadata": {
      "needs_background": "light"
     },
     "output_type": "display_data"
    }
   ],
   "source": [
    "anomaly_column=[]\n",
    "for i in range(15830):\n",
    "    if train['value'][i]==30:\n",
    "        if train['is_anomaly'][i]:\n",
    "            anomaly_column.append('r')\n",
    "        else:\n",
    "            anomaly_column.append('b')\n",
    "plt.scatter(range(251),train[train['value']==30]['predicted'],c=anomaly_column)"
   ]
  },
  {
   "cell_type": "code",
   "execution_count": 9,
   "id": "fresh-relations",
   "metadata": {
    "execution": {
     "iopub.execute_input": "2024-07-20T15:45:18.996041Z",
     "iopub.status.busy": "2024-07-20T15:45:18.995222Z",
     "iopub.status.idle": "2024-07-20T15:45:18.998738Z",
     "shell.execute_reply": "2024-07-20T15:45:18.999224Z",
     "shell.execute_reply.started": "2024-07-20T15:41:30.681458Z"
    },
    "papermill": {
     "duration": 0.042587,
     "end_time": "2024-07-20T15:45:18.999416",
     "exception": false,
     "start_time": "2024-07-20T15:45:18.956829",
     "status": "completed"
    },
    "tags": []
   },
   "outputs": [
    {
     "data": {
      "text/html": [
       "<div>\n",
       "<style scoped>\n",
       "    .dataframe tbody tr th:only-of-type {\n",
       "        vertical-align: middle;\n",
       "    }\n",
       "\n",
       "    .dataframe tbody tr th {\n",
       "        vertical-align: top;\n",
       "    }\n",
       "\n",
       "    .dataframe thead th {\n",
       "        text-align: right;\n",
       "    }\n",
       "</style>\n",
       "<table border=\"1\" class=\"dataframe\">\n",
       "  <thead>\n",
       "    <tr style=\"text-align: right;\">\n",
       "      <th></th>\n",
       "      <th>timestamp</th>\n",
       "      <th>value</th>\n",
       "      <th>is_anomaly</th>\n",
       "      <th>predicted</th>\n",
       "    </tr>\n",
       "  </thead>\n",
       "  <tbody>\n",
       "    <tr>\n",
       "      <th>31</th>\n",
       "      <td>1425017873</td>\n",
       "      <td>30</td>\n",
       "      <td>False</td>\n",
       "      <td>44.719856</td>\n",
       "    </tr>\n",
       "    <tr>\n",
       "      <th>36</th>\n",
       "      <td>1425019373</td>\n",
       "      <td>30</td>\n",
       "      <td>False</td>\n",
       "      <td>51.963814</td>\n",
       "    </tr>\n",
       "    <tr>\n",
       "      <th>85</th>\n",
       "      <td>1425034073</td>\n",
       "      <td>30</td>\n",
       "      <td>False</td>\n",
       "      <td>18.330496</td>\n",
       "    </tr>\n",
       "    <tr>\n",
       "      <th>89</th>\n",
       "      <td>1425035273</td>\n",
       "      <td>30</td>\n",
       "      <td>False</td>\n",
       "      <td>17.930708</td>\n",
       "    </tr>\n",
       "    <tr>\n",
       "      <th>91</th>\n",
       "      <td>1425035873</td>\n",
       "      <td>30</td>\n",
       "      <td>False</td>\n",
       "      <td>19.451230</td>\n",
       "    </tr>\n",
       "    <tr>\n",
       "      <th>...</th>\n",
       "      <td>...</td>\n",
       "      <td>...</td>\n",
       "      <td>...</td>\n",
       "      <td>...</td>\n",
       "    </tr>\n",
       "    <tr>\n",
       "      <th>4624</th>\n",
       "      <td>1426395773</td>\n",
       "      <td>30</td>\n",
       "      <td>False</td>\n",
       "      <td>32.028670</td>\n",
       "    </tr>\n",
       "    <tr>\n",
       "      <th>4708</th>\n",
       "      <td>1426420973</td>\n",
       "      <td>30</td>\n",
       "      <td>False</td>\n",
       "      <td>28.113440</td>\n",
       "    </tr>\n",
       "    <tr>\n",
       "      <th>5155</th>\n",
       "      <td>1426555073</td>\n",
       "      <td>30</td>\n",
       "      <td>False</td>\n",
       "      <td>128.268700</td>\n",
       "    </tr>\n",
       "    <tr>\n",
       "      <th>5214</th>\n",
       "      <td>1426572773</td>\n",
       "      <td>30</td>\n",
       "      <td>False</td>\n",
       "      <td>36.429480</td>\n",
       "    </tr>\n",
       "    <tr>\n",
       "      <th>5475</th>\n",
       "      <td>1426651073</td>\n",
       "      <td>30</td>\n",
       "      <td>False</td>\n",
       "      <td>66.643730</td>\n",
       "    </tr>\n",
       "  </tbody>\n",
       "</table>\n",
       "<p>85 rows × 4 columns</p>\n",
       "</div>"
      ],
      "text/plain": [
       "       timestamp  value  is_anomaly   predicted\n",
       "31    1425017873     30       False   44.719856\n",
       "36    1425019373     30       False   51.963814\n",
       "85    1425034073     30       False   18.330496\n",
       "89    1425035273     30       False   17.930708\n",
       "91    1425035873     30       False   19.451230\n",
       "...          ...    ...         ...         ...\n",
       "4624  1426395773     30       False   32.028670\n",
       "4708  1426420973     30       False   28.113440\n",
       "5155  1426555073     30       False  128.268700\n",
       "5214  1426572773     30       False   36.429480\n",
       "5475  1426651073     30       False   66.643730\n",
       "\n",
       "[85 rows x 4 columns]"
      ]
     },
     "execution_count": 9,
     "metadata": {},
     "output_type": "execute_result"
    }
   ],
   "source": [
    "train[train['value']==30].head(85)"
   ]
  },
  {
   "cell_type": "code",
   "execution_count": 10,
   "id": "thirty-girlfriend",
   "metadata": {
    "execution": {
     "iopub.execute_input": "2024-07-20T15:45:19.054846Z",
     "iopub.status.busy": "2024-07-20T15:45:19.054205Z",
     "iopub.status.idle": "2024-07-20T15:45:19.061634Z",
     "shell.execute_reply": "2024-07-20T15:45:19.060976Z",
     "shell.execute_reply.started": "2024-07-20T15:41:30.702978Z"
    },
    "papermill": {
     "duration": 0.037638,
     "end_time": "2024-07-20T15:45:19.061775",
     "exception": false,
     "start_time": "2024-07-20T15:45:19.024137",
     "status": "completed"
    },
    "tags": []
   },
   "outputs": [
    {
     "data": {
      "text/plain": [
       "is_anomaly\n",
       "False    15054\n",
       "True       776\n",
       "dtype: int64"
      ]
     },
     "execution_count": 10,
     "metadata": {},
     "output_type": "execute_result"
    }
   ],
   "source": [
    "train.value_counts('is_anomaly')"
   ]
  },
  {
   "cell_type": "code",
   "execution_count": 11,
   "id": "joint-intermediate",
   "metadata": {
    "execution": {
     "iopub.execute_input": "2024-07-20T15:45:19.124905Z",
     "iopub.status.busy": "2024-07-20T15:45:19.124139Z",
     "iopub.status.idle": "2024-07-20T15:45:19.128089Z",
     "shell.execute_reply": "2024-07-20T15:45:19.127561Z",
     "shell.execute_reply.started": "2024-07-20T15:41:30.717519Z"
    },
    "papermill": {
     "duration": 0.041247,
     "end_time": "2024-07-20T15:45:19.128230",
     "exception": false,
     "start_time": "2024-07-20T15:45:19.086983",
     "status": "completed"
    },
    "tags": []
   },
   "outputs": [
    {
     "data": {
      "text/html": [
       "<div>\n",
       "<style scoped>\n",
       "    .dataframe tbody tr th:only-of-type {\n",
       "        vertical-align: middle;\n",
       "    }\n",
       "\n",
       "    .dataframe tbody tr th {\n",
       "        vertical-align: top;\n",
       "    }\n",
       "\n",
       "    .dataframe thead th {\n",
       "        text-align: right;\n",
       "    }\n",
       "</style>\n",
       "<table border=\"1\" class=\"dataframe\">\n",
       "  <thead>\n",
       "    <tr style=\"text-align: right;\">\n",
       "      <th></th>\n",
       "      <th>timestamp</th>\n",
       "      <th>value</th>\n",
       "      <th>is_anomaly</th>\n",
       "      <th>predicted</th>\n",
       "    </tr>\n",
       "  </thead>\n",
       "  <tbody>\n",
       "    <tr>\n",
       "      <th>0</th>\n",
       "      <td>1425008573</td>\n",
       "      <td>42</td>\n",
       "      <td>False</td>\n",
       "      <td>44.072500</td>\n",
       "    </tr>\n",
       "    <tr>\n",
       "      <th>1</th>\n",
       "      <td>1425008873</td>\n",
       "      <td>41</td>\n",
       "      <td>False</td>\n",
       "      <td>50.709390</td>\n",
       "    </tr>\n",
       "    <tr>\n",
       "      <th>2</th>\n",
       "      <td>1425009173</td>\n",
       "      <td>41</td>\n",
       "      <td>False</td>\n",
       "      <td>81.405120</td>\n",
       "    </tr>\n",
       "    <tr>\n",
       "      <th>3</th>\n",
       "      <td>1425009473</td>\n",
       "      <td>61</td>\n",
       "      <td>False</td>\n",
       "      <td>39.950367</td>\n",
       "    </tr>\n",
       "    <tr>\n",
       "      <th>4</th>\n",
       "      <td>1425009773</td>\n",
       "      <td>44</td>\n",
       "      <td>False</td>\n",
       "      <td>35.350160</td>\n",
       "    </tr>\n",
       "    <tr>\n",
       "      <th>5</th>\n",
       "      <td>1425010073</td>\n",
       "      <td>27</td>\n",
       "      <td>False</td>\n",
       "      <td>27.713638</td>\n",
       "    </tr>\n",
       "    <tr>\n",
       "      <th>6</th>\n",
       "      <td>1425010373</td>\n",
       "      <td>37</td>\n",
       "      <td>False</td>\n",
       "      <td>41.545710</td>\n",
       "    </tr>\n",
       "    <tr>\n",
       "      <th>7</th>\n",
       "      <td>1425010673</td>\n",
       "      <td>36</td>\n",
       "      <td>False</td>\n",
       "      <td>38.743620</td>\n",
       "    </tr>\n",
       "    <tr>\n",
       "      <th>8</th>\n",
       "      <td>1425010973</td>\n",
       "      <td>49</td>\n",
       "      <td>False</td>\n",
       "      <td>40.859787</td>\n",
       "    </tr>\n",
       "    <tr>\n",
       "      <th>9</th>\n",
       "      <td>1425011273</td>\n",
       "      <td>36</td>\n",
       "      <td>False</td>\n",
       "      <td>25.444733</td>\n",
       "    </tr>\n",
       "  </tbody>\n",
       "</table>\n",
       "</div>"
      ],
      "text/plain": [
       "    timestamp  value  is_anomaly  predicted\n",
       "0  1425008573     42       False  44.072500\n",
       "1  1425008873     41       False  50.709390\n",
       "2  1425009173     41       False  81.405120\n",
       "3  1425009473     61       False  39.950367\n",
       "4  1425009773     44       False  35.350160\n",
       "5  1425010073     27       False  27.713638\n",
       "6  1425010373     37       False  41.545710\n",
       "7  1425010673     36       False  38.743620\n",
       "8  1425010973     49       False  40.859787\n",
       "9  1425011273     36       False  25.444733"
      ]
     },
     "execution_count": 11,
     "metadata": {},
     "output_type": "execute_result"
    }
   ],
   "source": [
    "train.head(10)"
   ]
  },
  {
   "cell_type": "code",
   "execution_count": 12,
   "id": "blank-pension",
   "metadata": {
    "execution": {
     "iopub.execute_input": "2024-07-20T15:45:19.184870Z",
     "iopub.status.busy": "2024-07-20T15:45:19.183919Z",
     "iopub.status.idle": "2024-07-20T15:45:19.190677Z",
     "shell.execute_reply": "2024-07-20T15:45:19.191143Z",
     "shell.execute_reply.started": "2024-07-20T15:41:30.733890Z"
    },
    "papermill": {
     "duration": 0.037457,
     "end_time": "2024-07-20T15:45:19.191328",
     "exception": false,
     "start_time": "2024-07-20T15:45:19.153871",
     "status": "completed"
    },
    "tags": []
   },
   "outputs": [
    {
     "data": {
      "text/plain": [
       "array([   42,    41,    61,    44,    27,    37,    36,    49,    32,\n",
       "          50,    43,    47,    45,    56,    40,    57,    73,    59,\n",
       "         140,    38,    28,    30,    31,    26,    20,    23,    15,\n",
       "          25,    19,    18,    21,    17,    11,    13,    22,    14,\n",
       "          16,    24,    29,    10,    39,    34,    35,    53,   222,\n",
       "          46,   110,    65,    54,    66,   102,    92,    62,    86,\n",
       "          67,    58,    52,    51,    68,   109,    80,   108,   172,\n",
       "         271,   456,   440,   477,   426,   284,   159,   112,   118,\n",
       "          70,    63,   105,    95,   111,   116,   155,   141,   115,\n",
       "         137,   113,   136,   119,    97,   101,    96,    87,    93,\n",
       "         103,    99,    90,   154,   131,   130,   100,   122,    89,\n",
       "         106,   138,   123,   120,    88,   147,   129,    81,    85,\n",
       "         114,    60,    91,    78,    74,    77,    83,    79,    76,\n",
       "          98,   104,   117,   107,   204,   229,    82,     7,     9,\n",
       "          12,     8,    55,    33,    48,    84,     6,    71,     4,\n",
       "         134,    72,   346,   195,   149,   127,    64,    69,    75,\n",
       "         235,   446,   226,   240,   264,   169,    94,   194,   193,\n",
       "         162,   133,   132,   165,   379,  1698,  3228,  2234,  1452,\n",
       "         865,  1088,  1585,  1132,   643,   536,   369,   294,   272,\n",
       "         151,   143,   170,   694,   396,   203,   191,   146,   248,\n",
       "         394,   416,   342,   219,   293,   316,   505,   292,   233,\n",
       "         381,   343,   501,   312,   325,   257,   188,   153,   198,\n",
       "         174,   201,   173,   453,   186,   181,  1458,   139,   183,\n",
       "        2300,   125,   167,   243,   215,   156,   196,   158,   135,\n",
       "         150,   232,   308,   388,   368,   253,   225,   192,   488,\n",
       "         231,   254,   148,  1549,   571,   345,   205,   190,   171,\n",
       "        1064,   211,   176,   275,   180,   197,   124,  1592,  1464,\n",
       "        1422,   797,   567,   443,   399,   479,   529,   425,   424,\n",
       "         600,   458,   551,   979,  1148,  1100,   981,  1087,   822,\n",
       "         649,   561,   780,   591,   466,   523,   654,   846,   754,\n",
       "         613,   996,  1018,   856,   685,   516,   430,   542,   496,\n",
       "         537,   575,   603,   417,   344,   397,   374,   341,   323,\n",
       "         418,   533,   461,   506,   473,   499,   423,   449,   380,\n",
       "         433,   362,   340,   354,   616,   265,   245,   314,   349,\n",
       "         334,   307,   309,   258,   287,   373,   317,   300,   352,\n",
       "         297,   296,   286,   263,   283,   281,   290,   223,   302,\n",
       "         375,   273,   269,   247,   278,   249,   260,   246,   252,\n",
       "         242,   318,   500,   409,   370,   333,   299,   315,   288,\n",
       "         274,   259,   319,   295,   175,   157,   267,   298,   255,\n",
       "         241,   213,   214,   142,   187,   199,   224,   189,   179,\n",
       "         145,   121,   303,   152,   285,  1835,   177,   168,   220,\n",
       "         126,   207,   557,     0,   268,   185,   256,   210,     1,\n",
       "           5,     2,   468,  2365,   710,   451,   489,   357,  1241,\n",
       "        1843,  2361,   482,   161,   164,  2887,   674,   520,   261,\n",
       "         216,   652,   957,   884,   913,   892,   384,   521,   476,\n",
       "         494,   465,   434,   548,  1219,  1438,  2019,  1921,  1672,\n",
       "        1443,  2481,  6393,  8107,  5249,  1596,   311,   322,   200,\n",
       "         690,   184,   166,  1665,   160,   702,   178,     3,   227,\n",
       "         324,   454,   217,   467,   212,   163,   270,   721,   858,\n",
       "         415,   218,   144,   462,   403,   320,   638,  1147,   509,\n",
       "         236,   422,   432,   363,   355,  4791,  2334,  1182,   844,\n",
       "         648,   573,   412,   405,   387,   328,   310,   366,   301,\n",
       "         238,   182,  1525,  1091,   450,   239,   202,  1206,   209,\n",
       "        3024,  2471,  6418,  7479, 10372, 13479,  8025,  5157,  3689,\n",
       "        2164,  2069,  2226,  2378,  1316,   679,   513,   244,   361,\n",
       "         431,   128,   564,   206,   827,   753,   464,   208,   483,\n",
       "        1959,  1811,   828,   514,   391,  3738,  1401,   554,   606,\n",
       "         338,   350,   279,   647,  1238,   503,   313,   447,   389,\n",
       "         326,   289,   967,   599,  3355,   662,   621,   277,   517,\n",
       "         699,  1408,   438,   632,   701,   791,   330,   750,   234,\n",
       "         742,   480,   889,   230,   769,   282,   586,  2505,  1877,\n",
       "         751,   937,   670,   863,   452,   393,   237,   228,  1280,\n",
       "         221,   377,   336,   351,   414,   266,  1068,   691,  3995,\n",
       "        1294,   726,   592,   448,   615,   569,   623,  1871,   733,\n",
       "         624,   568,   493,  2137,  4138,  3838,  8795,  9476,  8301,\n",
       "       11694, 11899,  9310,  2393,  1353,  2437,  1561,   873,   653,\n",
       "         455,   497,   419,   410,   339,   974,   457,   555,   725,\n",
       "        1092,  1605,   693,   442,   812,  1403,   692,   460,  1441,\n",
       "         470,   262,  1678,  1050,  1059,   543,   291,   402,   276,\n",
       "        1360,  2526,  3414,  2826,  2510,  1299,   714,   576,   490,\n",
       "         838])"
      ]
     },
     "execution_count": 12,
     "metadata": {},
     "output_type": "execute_result"
    }
   ],
   "source": [
    "train['value'].unique()"
   ]
  },
  {
   "cell_type": "code",
   "execution_count": 13,
   "id": "faced-sector",
   "metadata": {
    "execution": {
     "iopub.execute_input": "2024-07-20T15:45:19.252733Z",
     "iopub.status.busy": "2024-07-20T15:45:19.251715Z",
     "iopub.status.idle": "2024-07-20T15:45:19.255121Z",
     "shell.execute_reply": "2024-07-20T15:45:19.255643Z",
     "shell.execute_reply.started": "2024-07-20T15:41:30.749547Z"
    },
    "papermill": {
     "duration": 0.038108,
     "end_time": "2024-07-20T15:45:19.255823",
     "exception": false,
     "start_time": "2024-07-20T15:45:19.217715",
     "status": "completed"
    },
    "tags": []
   },
   "outputs": [
    {
     "data": {
      "text/plain": [
       "0        -2.072500\n",
       "1        -9.709390\n",
       "2       -40.405120\n",
       "3        21.049633\n",
       "4         8.649840\n",
       "           ...    \n",
       "15825    -9.624115\n",
       "15826   -14.752296\n",
       "15827    -4.147630\n",
       "15828   -32.007545\n",
       "15829   -21.144700\n",
       "Length: 15830, dtype: float64"
      ]
     },
     "execution_count": 13,
     "metadata": {},
     "output_type": "execute_result"
    }
   ],
   "source": [
    "train['value']-train['predicted']"
   ]
  },
  {
   "cell_type": "code",
   "execution_count": 14,
   "id": "supreme-slave",
   "metadata": {
    "execution": {
     "iopub.execute_input": "2024-07-20T15:45:19.313766Z",
     "iopub.status.busy": "2024-07-20T15:45:19.313082Z",
     "iopub.status.idle": "2024-07-20T15:45:19.324916Z",
     "shell.execute_reply": "2024-07-20T15:45:19.324415Z",
     "shell.execute_reply.started": "2024-07-20T15:41:30.763425Z"
    },
    "papermill": {
     "duration": 0.04262,
     "end_time": "2024-07-20T15:45:19.325059",
     "exception": false,
     "start_time": "2024-07-20T15:45:19.282439",
     "status": "completed"
    },
    "tags": []
   },
   "outputs": [
    {
     "data": {
      "text/html": [
       "<div>\n",
       "<style scoped>\n",
       "    .dataframe tbody tr th:only-of-type {\n",
       "        vertical-align: middle;\n",
       "    }\n",
       "\n",
       "    .dataframe tbody tr th {\n",
       "        vertical-align: top;\n",
       "    }\n",
       "\n",
       "    .dataframe thead th {\n",
       "        text-align: right;\n",
       "    }\n",
       "</style>\n",
       "<table border=\"1\" class=\"dataframe\">\n",
       "  <thead>\n",
       "    <tr style=\"text-align: right;\">\n",
       "      <th></th>\n",
       "      <th>timestamp</th>\n",
       "      <th>value</th>\n",
       "      <th>is_anomaly</th>\n",
       "      <th>predicted</th>\n",
       "    </tr>\n",
       "  </thead>\n",
       "  <tbody>\n",
       "    <tr>\n",
       "      <th>timestamp</th>\n",
       "      <td>1.000000</td>\n",
       "      <td>0.032628</td>\n",
       "      <td>0.016457</td>\n",
       "      <td>0.030462</td>\n",
       "    </tr>\n",
       "    <tr>\n",
       "      <th>value</th>\n",
       "      <td>0.032628</td>\n",
       "      <td>1.000000</td>\n",
       "      <td>0.324859</td>\n",
       "      <td>0.445180</td>\n",
       "    </tr>\n",
       "    <tr>\n",
       "      <th>is_anomaly</th>\n",
       "      <td>0.016457</td>\n",
       "      <td>0.324859</td>\n",
       "      <td>1.000000</td>\n",
       "      <td>0.059719</td>\n",
       "    </tr>\n",
       "    <tr>\n",
       "      <th>predicted</th>\n",
       "      <td>0.030462</td>\n",
       "      <td>0.445180</td>\n",
       "      <td>0.059719</td>\n",
       "      <td>1.000000</td>\n",
       "    </tr>\n",
       "  </tbody>\n",
       "</table>\n",
       "</div>"
      ],
      "text/plain": [
       "            timestamp     value  is_anomaly  predicted\n",
       "timestamp    1.000000  0.032628    0.016457   0.030462\n",
       "value        0.032628  1.000000    0.324859   0.445180\n",
       "is_anomaly   0.016457  0.324859    1.000000   0.059719\n",
       "predicted    0.030462  0.445180    0.059719   1.000000"
      ]
     },
     "execution_count": 14,
     "metadata": {},
     "output_type": "execute_result"
    }
   ],
   "source": [
    "train.corr()"
   ]
  },
  {
   "cell_type": "code",
   "execution_count": 15,
   "id": "southeast-palestinian",
   "metadata": {
    "execution": {
     "iopub.execute_input": "2024-07-20T15:45:19.423138Z",
     "iopub.status.busy": "2024-07-20T15:45:19.412917Z",
     "iopub.status.idle": "2024-07-20T15:45:19.870115Z",
     "shell.execute_reply": "2024-07-20T15:45:19.869517Z",
     "shell.execute_reply.started": "2024-07-20T15:41:30.780526Z"
    },
    "papermill": {
     "duration": 0.517945,
     "end_time": "2024-07-20T15:45:19.870270",
     "exception": false,
     "start_time": "2024-07-20T15:45:19.352325",
     "status": "completed"
    },
    "tags": []
   },
   "outputs": [],
   "source": [
    "points=[]\n",
    "y=[]\n",
    "for i in range(15830):\n",
    "    curr=[train['value'][i],abs(train['predicted'][i]-train['value'][i])]\n",
    "    points.append(curr)\n",
    "    if train['is_anomaly'][i]==False:\n",
    "        y.append(0)\n",
    "    else:\n",
    "        y.append(1)"
   ]
  },
  {
   "cell_type": "markdown",
   "id": "aware-forest",
   "metadata": {
    "papermill": {
     "duration": 0.026537,
     "end_time": "2024-07-20T15:45:19.923772",
     "exception": false,
     "start_time": "2024-07-20T15:45:19.897235",
     "status": "completed"
    },
    "tags": []
   },
   "source": [
    "# Model creation and training"
   ]
  },
  {
   "cell_type": "code",
   "execution_count": 16,
   "id": "auburn-delaware",
   "metadata": {
    "execution": {
     "iopub.execute_input": "2024-07-20T15:45:19.982116Z",
     "iopub.status.busy": "2024-07-20T15:45:19.981447Z",
     "iopub.status.idle": "2024-07-20T15:45:27.552512Z",
     "shell.execute_reply": "2024-07-20T15:45:27.551762Z",
     "shell.execute_reply.started": "2024-07-20T15:41:31.389978Z"
    },
    "papermill": {
     "duration": 7.602246,
     "end_time": "2024-07-20T15:45:27.552671",
     "exception": false,
     "start_time": "2024-07-20T15:45:19.950425",
     "status": "completed"
    },
    "tags": []
   },
   "outputs": [
    {
     "data": {
      "text/plain": [
       "SVC(class_weight={0: 0.52577388, 1: 10.19974227})"
      ]
     },
     "execution_count": 16,
     "metadata": {},
     "output_type": "execute_result"
    }
   ],
   "source": [
    "from sklearn import svm\n",
    "# clf=svm.SVC(class_weight={0:4,1:95})\n",
    "clf=svm.SVC(class_weight={0:0.52577388,1:10.19974227})\n",
    "clf.fit(points,y)"
   ]
  },
  {
   "cell_type": "code",
   "execution_count": 17,
   "id": "alternate-timeline",
   "metadata": {
    "execution": {
     "iopub.execute_input": "2024-07-20T15:45:27.613448Z",
     "iopub.status.busy": "2024-07-20T15:45:27.612773Z",
     "iopub.status.idle": "2024-07-20T15:45:27.619777Z",
     "shell.execute_reply": "2024-07-20T15:45:27.620218Z",
     "shell.execute_reply.started": "2024-07-20T15:41:38.337047Z"
    },
    "papermill": {
     "duration": 0.040342,
     "end_time": "2024-07-20T15:45:27.620442",
     "exception": false,
     "start_time": "2024-07-20T15:45:27.580100",
     "status": "completed"
    },
    "tags": []
   },
   "outputs": [
    {
     "name": "stdout",
     "output_type": "stream",
     "text": [
      "Class weights: [ 0.52577388 10.19974227]\n"
     ]
    }
   ],
   "source": [
    "from sklearn.utils.class_weight import compute_class_weight\n",
    "\n",
    "class_weights = compute_class_weight(class_weight='balanced', classes=np.unique(y), y=y)\n",
    "\n",
    "print(\"Class weights:\", class_weights)"
   ]
  },
  {
   "cell_type": "code",
   "execution_count": 18,
   "id": "domestic-commissioner",
   "metadata": {
    "execution": {
     "iopub.execute_input": "2024-07-20T15:45:27.679974Z",
     "iopub.status.busy": "2024-07-20T15:45:27.679302Z",
     "iopub.status.idle": "2024-07-20T15:45:27.685043Z",
     "shell.execute_reply": "2024-07-20T15:45:27.684410Z",
     "shell.execute_reply.started": "2024-07-20T15:41:38.349318Z"
    },
    "papermill": {
     "duration": 0.037382,
     "end_time": "2024-07-20T15:45:27.685183",
     "exception": false,
     "start_time": "2024-07-20T15:45:27.647801",
     "status": "completed"
    },
    "tags": []
   },
   "outputs": [
    {
     "data": {
      "text/plain": [
       "array([1, 1])"
      ]
     },
     "execution_count": 18,
     "metadata": {},
     "output_type": "execute_result"
    }
   ],
   "source": [
    "clf.predict([[20,100],[140,65]])"
   ]
  },
  {
   "cell_type": "markdown",
   "id": "strategic-lesbian",
   "metadata": {
    "papermill": {
     "duration": 0.027301,
     "end_time": "2024-07-20T15:45:27.740823",
     "exception": false,
     "start_time": "2024-07-20T15:45:27.713522",
     "status": "completed"
    },
    "tags": []
   },
   "source": [
    "# Model metrics"
   ]
  },
  {
   "cell_type": "code",
   "execution_count": 19,
   "id": "friendly-therapist",
   "metadata": {
    "execution": {
     "iopub.execute_input": "2024-07-20T15:45:27.804444Z",
     "iopub.status.busy": "2024-07-20T15:45:27.803682Z",
     "iopub.status.idle": "2024-07-20T15:46:54.515244Z",
     "shell.execute_reply": "2024-07-20T15:46:54.515847Z",
     "shell.execute_reply.started": "2024-07-20T15:41:38.361475Z"
    },
    "papermill": {
     "duration": 86.746312,
     "end_time": "2024-07-20T15:46:54.516045",
     "exception": false,
     "start_time": "2024-07-20T15:45:27.769733",
     "status": "completed"
    },
    "tags": []
   },
   "outputs": [
    {
     "name": "stdout",
     "output_type": "stream",
     "text": [
      "Mean ROC AUC: 0.914\n"
     ]
    }
   ],
   "source": [
    "from numpy import mean\n",
    "from sklearn.model_selection import cross_val_score\n",
    "from sklearn.model_selection import RepeatedStratifiedKFold\n",
    "cv = RepeatedStratifiedKFold(n_splits=10, n_repeats=3, random_state=1)\n",
    "scores = cross_val_score(clf, points, y, scoring='roc_auc', cv=cv, n_jobs=-1)\n",
    "print('Mean ROC AUC: %.3f' % mean(scores))"
   ]
  },
  {
   "cell_type": "code",
   "execution_count": 20,
   "id": "helpful-method",
   "metadata": {
    "execution": {
     "iopub.execute_input": "2024-07-20T15:46:54.594401Z",
     "iopub.status.busy": "2024-07-20T15:46:54.593699Z",
     "iopub.status.idle": "2024-07-20T15:47:00.751361Z",
     "shell.execute_reply": "2024-07-20T15:47:00.750678Z",
     "shell.execute_reply.started": "2024-07-20T15:43:09.819498Z"
    },
    "papermill": {
     "duration": 6.207287,
     "end_time": "2024-07-20T15:47:00.751540",
     "exception": false,
     "start_time": "2024-07-20T15:46:54.544253",
     "status": "completed"
    },
    "tags": []
   },
   "outputs": [
    {
     "name": "stdout",
     "output_type": "stream",
     "text": [
      "0.37767969735182855\n"
     ]
    }
   ],
   "source": [
    "from sklearn.metrics import f1_score\n",
    "print(f1_score(y,clf.predict(points)))"
   ]
  }
 ],
 "metadata": {
  "kaggle": {
   "accelerator": "none",
   "dataSources": [
    {
     "databundleVersionId": 2386789,
     "sourceId": 29569,
     "sourceType": "competition"
    }
   ],
   "dockerImageVersionId": 30096,
   "isGpuEnabled": false,
   "isInternetEnabled": true,
   "language": "python",
   "sourceType": "notebook"
  },
  "kernelspec": {
   "display_name": "Python 3",
   "language": "python",
   "name": "python3"
  },
  "language_info": {
   "codemirror_mode": {
    "name": "ipython",
    "version": 3
   },
   "file_extension": ".py",
   "mimetype": "text/x-python",
   "name": "python",
   "nbconvert_exporter": "python",
   "pygments_lexer": "ipython3",
   "version": "3.7.10"
  },
  "papermill": {
   "default_parameters": {},
   "duration": 111.694961,
   "end_time": "2024-07-20T15:47:01.490310",
   "environment_variables": {},
   "exception": null,
   "input_path": "__notebook__.ipynb",
   "output_path": "__notebook__.ipynb",
   "parameters": {},
   "start_time": "2024-07-20T15:45:09.795349",
   "version": "2.3.3"
  }
 },
 "nbformat": 4,
 "nbformat_minor": 5
}
